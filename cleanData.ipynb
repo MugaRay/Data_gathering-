{
 "cells": [
  {
   "cell_type": "code",
   "execution_count": 10,
   "metadata": {},
   "outputs": [
    {
     "name": "stdout",
     "output_type": "stream",
     "text": [
      "    overview                                                                                                                                                                                                                                                                          media    source\n",
      "19       NaN  Mon 26 - Sun 3 Mar\\r\\n38:49\\r\\n< Previous\\r\\nMon 26 Feb\\r\\n8:05\\r\\n4 entries\\r\\nTue 27 Feb\\r\\n7:41\\r\\n4 entries\\r\\nrt\\r\\nS\\r\\nWed 28 Feb\\r\\n7:32\\r\\n>\\r\\n5 entries\\r\\nS\\r\\nThu 29 Feb\\r\\n7:32\\r\\n6 entries\\r\\nS\\r\\nFri 1 Mar\\r\\n7:59\\r\\nI\\r\\n3 entries\\r\\nF\\r\\nSat 2 Mar\\r\\n>  WhatsApp\n",
      "101      NaN                                                                                                                                                                                                                                                                            NaN     Other\n",
      "143      NaN                                                                                                                                                                                                                Complaint Submitted via NDOH\\r\\n-\\r\\nNo asset submitted by user  WhatsApp\n",
      "183      NaN                                                                                                                                                                                                                Complaint Submitted via NDOH\\r\\n-\\r\\nNo asset submitted by user  WhatsApp\n",
      "189      NaN                                                                                                                                                                                                                                                                            NaN  WhatsApp\n",
      "200      NaN                                                                                                                                                                                                                Complaint Submitted via NDOH\\r\\n-\\r\\nNo asset submitted by user  WhatsApp\n",
      "203      NaN                                                                                                                                                                                                                Complaint Submitted via NDOH\\r\\n-\\r\\nNo asset submitted by user  WhatsApp\n",
      "210      NaN                                                                                                                                                                                                                                                                            NaN  WhatsApp\n",
      "211      NaN                                                                                                                                                                                                                Complaint Submitted via NDOH\\r\\n-\\r\\nNo asset submitted by user  WhatsApp\n",
      "221      NaN                                                                                                                                                                                                                                                                            NaN  WhatsApp\n",
      "228      NaN                                                                                                                                                                                                                                                                            NaN  WhatsApp\n",
      "235      NaN                                                                                                                                                                                                                Complaint Submitted via NDOH\\r\\n-\\r\\nNo asset submitted by user  WhatsApp\n",
      "240      NaN                                                                                                                                                                                                                                                                            NaN  Facebook\n",
      "283      NaN                                                                                                                                                                                                                Complaint Submitted via NDOH\\r\\n-\\r\\nNo asset submitted by user  WhatsApp\n",
      "284      NaN                                                                                                                                                                                                                                                                            NaN  WhatsApp\n",
      "285      NaN                                                                                                                                                                                                                Complaint Submitted via NDOH\\r\\n-\\r\\nNo asset submitted by user  WhatsApp\n",
      "286      NaN                                                                                                                                                                                                                Complaint Submitted via NDOH\\r\\n-\\r\\nNo asset submitted by user  WhatsApp\n",
      "288      NaN                                                                                                                                                                                                                Complaint Submitted via NDOH\\r\\n-\\r\\nNo asset submitted by user  WhatsApp\n",
      "290      NaN                                                                                                                                                                                                                Complaint Submitted via NDOH\\r\\n-\\r\\nNo asset submitted by user  WhatsApp\n",
      "291      NaN                                                                                                                                                                                                                Complaint Submitted via NDOH\\r\\n-\\r\\nNo asset submitted by user  WhatsApp\n",
      "292      NaN                                                                                                                                                                                                                Complaint Submitted via NDOH\\r\\n-\\r\\nNo asset submitted by user  WhatsApp\n",
      "297      NaN                                                                                                                                                                                                                Complaint Submitted via NDOH\\r\\n-\\r\\nNo asset submitted by user  WhatsApp\n",
      "304      NaN                                                                                                                                                                                                                Complaint Submitted via NDOH\\r\\n-\\r\\nNo asset submitted by user  WhatsApp\n",
      "314      NaN                                                                                                                                                                                                                                                                            NaN  WhatsApp\n",
      "320      NaN                                                                                                                                                                                                                Complaint Submitted via NDOH\\r\\n-\\r\\nNo asset submitted by user  WhatsApp\n",
      "321      NaN                                                                                                                                                                                                                Complaint Submitted via NDOH\\r\\n-\\r\\nNo asset submitted by user  WhatsApp\n",
      "327      NaN                                                                                                                                                                                                                Complaint Submitted via NDOH\\r\\n-\\r\\nNo asset submitted by user  WhatsApp\n",
      "329      NaN                                                                                                                                                                                                                Complaint Submitted via NDOH\\r\\n-\\r\\nNo asset submitted by user  WhatsApp\n",
      "330      NaN                                                                                                                                                                                                                Complaint Submitted via NDOH\\r\\n-\\r\\nNo asset submitted by user  WhatsApp\n",
      "332      NaN                                                                                                                                                                                                                Complaint Submitted via NDOH\\r\\n-\\r\\nNo asset submitted by user  WhatsApp\n",
      "333      NaN                                                                                                                                                                                                                Complaint Submitted via NDOH\\r\\n-\\r\\nNo asset submitted by user  WhatsApp\n",
      "336      NaN                                                                                                                                                                                                                Complaint Submitted via NDOH\\r\\n-\\r\\nNo asset submitted by user  WhatsApp\n",
      "338      NaN                                                                                                                                                                                                                Complaint Submitted via NDOH\\r\\n-\\r\\nNo asset submitted by user  WhatsApp\n"
     ]
    }
   ],
   "source": [
    "# This is used to clean up the csv file \n",
    "\n",
    "import pandas as pd\n",
    "import seaborn as sns\n",
    "import matplotlib.pyplot as plt\n",
    "# importing the data\n",
    "df = pd.read_csv(\"real.csv\")\n",
    "\n",
    "duplicates = df[df.duplicated()]\n",
    "print(duplicates.to_string())"
   ]
  },
  {
   "cell_type": "code",
   "execution_count": 21,
   "metadata": {},
   "outputs": [
    {
     "data": {
      "text/plain": [
       "(307, 3)"
      ]
     },
     "execution_count": 21,
     "metadata": {},
     "output_type": "execute_result"
    }
   ],
   "source": [
    "#removing duplicated information\n",
    "\n",
    "# Some information does not have a supporting screenshot \n",
    "df_filtered = df.drop_duplicates()\n",
    "df_filtered.shape\n"
   ]
  },
  {
   "cell_type": "code",
   "execution_count": 12,
   "metadata": {},
   "outputs": [
    {
     "name": "stderr",
     "output_type": "stream",
     "text": [
      "C:\\Users\\g21m3012\\AppData\\Local\\Temp\\ipykernel_19664\\1803226400.py:2: UserWarning: Boolean Series key will be reindexed to match DataFrame index.\n",
      "  nan_overview = df_filtered[(pd.isna(df[\"overview\"]) & pd.isna(df[\"media\"]))]\n"
     ]
    },
    {
     "data": {
      "text/html": [
       "<div>\n",
       "<style scoped>\n",
       "    .dataframe tbody tr th:only-of-type {\n",
       "        vertical-align: middle;\n",
       "    }\n",
       "\n",
       "    .dataframe tbody tr th {\n",
       "        vertical-align: top;\n",
       "    }\n",
       "\n",
       "    .dataframe thead th {\n",
       "        text-align: right;\n",
       "    }\n",
       "</style>\n",
       "<table border=\"1\" class=\"dataframe\">\n",
       "  <thead>\n",
       "    <tr style=\"text-align: right;\">\n",
       "      <th></th>\n",
       "      <th>overview</th>\n",
       "      <th>media</th>\n",
       "      <th>source</th>\n",
       "    </tr>\n",
       "  </thead>\n",
       "  <tbody>\n",
       "    <tr>\n",
       "      <th>3</th>\n",
       "      <td>NaN</td>\n",
       "      <td>NaN</td>\n",
       "      <td>Facebook</td>\n",
       "    </tr>\n",
       "    <tr>\n",
       "      <th>4</th>\n",
       "      <td>NaN</td>\n",
       "      <td>NaN</td>\n",
       "      <td>Other Website</td>\n",
       "    </tr>\n",
       "    <tr>\n",
       "      <th>39</th>\n",
       "      <td>NaN</td>\n",
       "      <td>NaN</td>\n",
       "      <td>Other</td>\n",
       "    </tr>\n",
       "    <tr>\n",
       "      <th>48</th>\n",
       "      <td>NaN</td>\n",
       "      <td>NaN</td>\n",
       "      <td>WhatsApp</td>\n",
       "    </tr>\n",
       "    <tr>\n",
       "      <th>305</th>\n",
       "      <td>NaN</td>\n",
       "      <td>NaN</td>\n",
       "      <td>Twitter/X</td>\n",
       "    </tr>\n",
       "  </tbody>\n",
       "</table>\n",
       "</div>"
      ],
      "text/plain": [
       "    overview media         source\n",
       "3        NaN   NaN       Facebook\n",
       "4        NaN   NaN  Other Website\n",
       "39       NaN   NaN          Other\n",
       "48       NaN   NaN       WhatsApp\n",
       "305      NaN   NaN      Twitter/X"
      ]
     },
     "execution_count": 12,
     "metadata": {},
     "output_type": "execute_result"
    }
   ],
   "source": [
    "# getting the rows with were overview is nan\n",
    "nan_overview = df_filtered[(pd.isna(df[\"overview\"]) & pd.isna(df[\"media\"]))]\n",
    "nan_overview.head()"
   ]
  },
  {
   "cell_type": "code",
   "execution_count": 13,
   "metadata": {},
   "outputs": [],
   "source": [
    "filtered_data = df_filtered.drop(nan_overview.index)\n",
    "filtered_data.head()\n",
    "\n",
    "filtered_data.to_csv(\"filtered_data.csv\", index=False)\n"
   ]
  },
  {
   "cell_type": "code",
   "execution_count": 14,
   "metadata": {},
   "outputs": [
    {
     "data": {
      "text/plain": [
       "source\n",
       "Twitter/X        227\n",
       "WhatsApp          25\n",
       "Other             20\n",
       "Facebook          12\n",
       "Other Website      9\n",
       "Youtube            4\n",
       "Instagram          3\n",
       "Radio / TV         2\n",
       "Name: count, dtype: int64"
      ]
     },
     "execution_count": 14,
     "metadata": {},
     "output_type": "execute_result"
    }
   ],
   "source": [
    "target_source= filtered_data[\"source\"]\n",
    "target_source.value_counts()"
   ]
  },
  {
   "cell_type": "code",
   "execution_count": 15,
   "metadata": {},
   "outputs": [
    {
     "name": "stderr",
     "output_type": "stream",
     "text": [
      "C:\\Users\\g21m3012\\AppData\\Local\\Temp\\ipykernel_19664\\2323035365.py:5: UserWarning: set_ticklabels() should only be used with a fixed number of ticks, i.e. after set_ticks() or using a FixedLocator.\n",
      "  ax.set_xticklabels(ax.get_xticklabels(), rotation=40, ha=\"right\")\n"
     ]
    },
    {
     "data": {
      "image/png": "[encoded data removed]",
      "text/plain": [
       "<Figure size 640x480 with 1 Axes>"
      ]
     },
     "metadata": {},
     "output_type": "display_data"
    }
   ],
   "source": [
    "# making a bar chart to show the distribution of the sources\n",
    "source_count = target_source.value_counts().to_frame(name=\"Count\")\n",
    "\n",
    "ax = sns.barplot(source_count, x=\"source\", y=\"Count\")\n",
    "ax.set_xticklabels(ax.get_xticklabels(), rotation=40, ha=\"right\")\n",
    "plt.tight_layout()\n",
    "plt.show()"
   ]
  },
  {
   "cell_type": "code",
   "execution_count": 20,
   "metadata": {},
   "outputs": [
    {
     "data": {
      "text/plain": [
       "(227, 3)"
      ]
     },
     "execution_count": 20,
     "metadata": {},
     "output_type": "execute_result"
    }
   ],
   "source": [
    "# cleaning twitter data\n",
    "\n",
    "twitter = filtered_data[filtered_data[\"source\"] == \"Twitter/X\"]\n",
    "\n",
    "twitter.shape\n",
    "#twitter.to_csv(\"twitter.csv\", index=False)"
   ]
  },
  {
   "cell_type": "code",
   "execution_count": 17,
   "metadata": {},
   "outputs": [
    {
     "name": "stdout",
     "output_type": "stream",
     "text": [
      "                                              overview  \\\n",
      "22                                                 NaN   \n",
      "212  The complaint is about a comment on a Tweet  t...   \n",
      "31   The complaint is about a tweet by Freeman Bhen...   \n",
      "184                                                NaN   \n",
      "225  The complaint is about a user who  is spreadin...   \n",
      "\n",
      "                                                 media     source  \n",
      "22   DR. IQBAL SURVÉ 0 @IqbalSurve . 1d\\r\\nEdmond P...  Twitter/X  \n",
      "212  sizwesakithi\\r\\n@sizwesakithi1\\r\\nReplying to ...  Twitter/X  \n",
      "31   Freeman Bhengu\\r\\nFollow\\r\\n@zibuseman\\r\\nMina...  Twitter/X  \n",
      "184  Gayton McKenzie @GaytonMcK . 7h\\r\\nWhat is unl...  Twitter/X  \n",
      "225  Prof Moya @TheGoodNews0 14h\\r\\n:\\r\\nReplying t...  Twitter/X  \n"
     ]
    }
   ],
   "source": [
    "# 5 random samples to anayziz how best to break up the data\n",
    "t_sample = twitter.sample(n= 5, random_state=42)\n",
    "\n",
    "print(t_sample)"
   ]
  },
  {
   "cell_type": "code",
   "execution_count": 19,
   "metadata": {},
   "outputs": [
    {
     "data": {
      "text/plain": [
       "(98, 3)"
      ]
     },
     "execution_count": 19,
     "metadata": {},
     "output_type": "execute_result"
    }
   ],
   "source": [
    "facbook = \n",
    "clean_twit.shape"
   ]
  }
 ],
 "metadata": {
  "kernelspec": {
   "display_name": "myenv",
   "language": "python",
   "name": "python3"
  },
  "language_info": {
   "codemirror_mode": {
    "name": "ipython",
    "version": 3
   },
   "file_extension": ".py",
   "mimetype": "text/x-python",
   "name": "python",
   "nbconvert_exporter": "python",
   "pygments_lexer": "ipython3",
   "version": "3.12.2"
  }
 },
 "nbformat": 4,
 "nbformat_minor": 2
}
